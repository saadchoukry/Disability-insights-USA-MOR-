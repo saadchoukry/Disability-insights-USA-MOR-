{
 "cells": [
  {
   "cell_type": "code",
   "execution_count": 4,
   "metadata": {},
   "outputs": [],
   "source": [
    "import pandas as pd\n",
    "import numpy as np\n",
    "from math import floor"
   ]
  },
  {
   "cell_type": "code",
   "execution_count": 5,
   "metadata": {},
   "outputs": [],
   "source": [
    "class IllitSexeAge:\n",
    "    def clean(self):\n",
    "        self.df.set_index('groupes d’âges',inplace=True)\n",
    "        self.df = self.df.astype('int64')\n",
    "        \n",
    "        \n",
    "    def __init__(self,disabilityType=\"AllTypes\"):\n",
    "        self.disabilityType = disabilityType\n",
    "        self.df = pd.read_csv(\"C:/Users/Saad/Desktop/Projet_BI/Ressources/HCP/HCP04/csv/\"+ disabilityType+\"3_2.csv\",index_col=False)\n",
    "        self.clean()\n",
    "        \n",
    "    def IllitAge(self):\n",
    "        return self.df[[\"Ensemble\"]]\n",
    "    \n",
    "    def IllitSexeAge(self):\n",
    "        return self.df"
   ]
  }
 ],
 "metadata": {
  "kernelspec": {
   "display_name": "Python 3",
   "language": "python",
   "name": "python3"
  },
  "language_info": {
   "codemirror_mode": {
    "name": "ipython",
    "version": 3
   },
   "file_extension": ".py",
   "mimetype": "text/x-python",
   "name": "python",
   "nbconvert_exporter": "python",
   "pygments_lexer": "ipython3",
   "version": "3.7.4"
  }
 },
 "nbformat": 4,
 "nbformat_minor": 2
}
