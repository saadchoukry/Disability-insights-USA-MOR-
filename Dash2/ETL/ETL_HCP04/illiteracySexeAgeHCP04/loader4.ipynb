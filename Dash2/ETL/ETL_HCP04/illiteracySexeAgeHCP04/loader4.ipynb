{
 "cells": [
  {
   "cell_type": "code",
   "execution_count": 1,
   "metadata": {},
   "outputs": [],
   "source": [
    "import pandas as pd\n",
    "import numpy as np\n",
    "from math import floor"
   ]
  },
  {
   "cell_type": "code",
   "execution_count": 2,
   "metadata": {},
   "outputs": [],
   "source": [
    "class IllitSexeAge:\n",
    "    def clean(self):\n",
    "        self.df.set_index('groupes d’âges',inplace=True)\n",
    "        self.df = self.df.astype('int64')\n",
    "        \n",
    "        \n",
    "    def __init__(self,disabilityType=\"AllTypes\"):\n",
    "        self.disabilityType = disabilityType\n",
    "        filePath = os.path.join(os.path.dirname(os.getcwd()),\"Ressources\\\\\"+disabilityType+\"3_2.csv\")\n",
    "        self.df = pd.read_csv(filePath,index_col=False)\n",
    "        self.clean()\n",
    "        \n",
    "    def IllitAge(self):\n",
    "        return self.df[[\"Ensemble\"]]\n",
    "    \n",
    "    def IllitSexeAge(self):\n",
    "        return self.df"
   ]
  },
  {
   "cell_type": "code",
   "execution_count": 5,
   "metadata": {},
   "outputs": [
    {
     "data": {
      "text/html": [
       "<div>\n",
       "<style scoped>\n",
       "    .dataframe tbody tr th:only-of-type {\n",
       "        vertical-align: middle;\n",
       "    }\n",
       "\n",
       "    .dataframe tbody tr th {\n",
       "        vertical-align: top;\n",
       "    }\n",
       "\n",
       "    .dataframe thead th {\n",
       "        text-align: right;\n",
       "    }\n",
       "</style>\n",
       "<table border=\"1\" class=\"dataframe\">\n",
       "  <thead>\n",
       "    <tr style=\"text-align: right;\">\n",
       "      <th></th>\n",
       "      <th>Masculin</th>\n",
       "      <th>Féminin</th>\n",
       "      <th>Ensemble</th>\n",
       "    </tr>\n",
       "    <tr>\n",
       "      <th>groupes d’âges</th>\n",
       "      <th></th>\n",
       "      <th></th>\n",
       "      <th></th>\n",
       "    </tr>\n",
       "  </thead>\n",
       "  <tbody>\n",
       "    <tr>\n",
       "      <td>10 - 14</td>\n",
       "      <td>11066</td>\n",
       "      <td>8933</td>\n",
       "      <td>19999</td>\n",
       "    </tr>\n",
       "    <tr>\n",
       "      <td>15 - 24</td>\n",
       "      <td>26524</td>\n",
       "      <td>21860</td>\n",
       "      <td>48384</td>\n",
       "    </tr>\n",
       "    <tr>\n",
       "      <td>25 - 34</td>\n",
       "      <td>12750</td>\n",
       "      <td>11409</td>\n",
       "      <td>24159</td>\n",
       "    </tr>\n",
       "    <tr>\n",
       "      <td>35 - 49</td>\n",
       "      <td>27390</td>\n",
       "      <td>25660</td>\n",
       "      <td>53050</td>\n",
       "    </tr>\n",
       "    <tr>\n",
       "      <td>50+</td>\n",
       "      <td>112980</td>\n",
       "      <td>141531</td>\n",
       "      <td>254511</td>\n",
       "    </tr>\n",
       "  </tbody>\n",
       "</table>\n",
       "</div>"
      ],
      "text/plain": [
       "                Masculin  Féminin  Ensemble\n",
       "groupes d’âges                             \n",
       "10 - 14            11066     8933     19999\n",
       "15 - 24            26524    21860     48384\n",
       "25 - 34            12750    11409     24159\n",
       "35 - 49            27390    25660     53050\n",
       "50+               112980   141531    254511"
      ]
     },
     "execution_count": 5,
     "metadata": {},
     "output_type": "execute_result"
    }
   ],
   "source": [
    "IllitSexeAge().df"
   ]
  }
 ],
 "metadata": {
  "kernelspec": {
   "display_name": "Python 3",
   "language": "python",
   "name": "python3"
  },
  "language_info": {
   "codemirror_mode": {
    "name": "ipython",
    "version": 3
   },
   "file_extension": ".py",
   "mimetype": "text/x-python",
   "name": "python",
   "nbconvert_exporter": "python",
   "pygments_lexer": "ipython3",
   "version": "3.7.4"
  }
 },
 "nbformat": 4,
 "nbformat_minor": 2
}